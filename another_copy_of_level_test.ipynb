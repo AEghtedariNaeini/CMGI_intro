{
  "cells": [
    {
      "cell_type": "markdown",
      "metadata": {
        "id": "view-in-github",
        "colab_type": "text"
      },
      "source": [
        "<a href=\"https://colab.research.google.com/github/AEghtedariNaeini/CMGI_intro/blob/main/another_copy_of_level_test.ipynb\" target=\"_parent\"><img src=\"https://colab.research.google.com/assets/colab-badge.svg\" alt=\"Open In Colab\"/></a>"
      ]
    },
    {
      "cell_type": "markdown",
      "metadata": {
        "id": "B8fiMccaK82q"
      },
      "source": [
        "![alt text](https://apac.ee.kntu.ac.ir/wp-content/uploads/2024/09/apacgroup-logo.svg)"
      ]
    },
    {
      "cell_type": "markdown",
      "metadata": {
        "id": "1OJ_hCJnK82u"
      },
      "source": [
        "# Level Test\n",
        "### Note: people who can answer this test **do not** need to attend first 50 hour of Python course"
      ]
    },
    {
      "cell_type": "markdown",
      "metadata": {
        "id": "FGlmv3OsK82u"
      },
      "source": [
        "The questions will be given and you sould code in the box below"
      ]
    },
    {
      "cell_type": "markdown",
      "metadata": {
        "id": "2ZpgbRGrK82w"
      },
      "source": [
        "# Q1 :\n",
        "calaulate the mod of three digit prime number(choose on your own) to 2 and proof that it is True\n",
        "\n"
      ]
    },
    {
      "cell_type": "code",
      "execution_count": null,
      "metadata": {
        "vscode": {
          "languageId": "plaintext"
        },
        "id": "rgt16R5HK82x",
        "outputId": "fb11da25-3588-4607-fd8e-116cfadca3c0",
        "colab": {
          "base_uri": "https://localhost:8080/"
        }
      },
      "outputs": [
        {
          "output_type": "stream",
          "name": "stdout",
          "text": [
            "103 % 2 = 1\n",
            "number is odd beacuse 103 is prime and grater than 2 \n"
          ]
        }
      ],
      "source": [
        "prim_num = 103\n",
        "result_num = prim_num % 2\n",
        "print(f'{prim_num} % 2 = {result_num}')\n",
        "if result_num==1:\n",
        "  print(f'number is odd beacuse {prim_num} is prime and grater than 2 ')\n",
        "else:\n",
        "  print('number is even')"
      ]
    },
    {
      "cell_type": "markdown",
      "metadata": {
        "id": "zhbC1PjwK82x"
      },
      "source": [
        "# Q2:\n",
        "code to get two string first print the type of input and then put them together(give it your name and last name)\n"
      ]
    },
    {
      "cell_type": "code",
      "execution_count": null,
      "metadata": {
        "vscode": {
          "languageId": "plaintext"
        },
        "id": "2fja7ibEK82y",
        "outputId": "2d5809e8-4934-4603-8a68-469875cc1b98",
        "colab": {
          "base_uri": "https://localhost:8080/"
        }
      },
      "outputs": [
        {
          "output_type": "stream",
          "name": "stdout",
          "text": [
            "Please insert your name:Atefe\n",
            "Please insert your family:Eghtedari\n",
            "type of Atefe is:  <class 'str'>\n",
            "type of Eghtedari is:  <class 'str'>\n",
            "your full name is: Atefe Eghtedari\n"
          ]
        }
      ],
      "source": [
        "first_input = input('Please insert your name:')\n",
        "second_input = input('Please insert your family:')\n",
        "print (f'type of {first_input} is : ' ,type(first_input))\n",
        "print (f'type of {second_input} is : ' ,type(first_input)  )\n",
        "print(f'your full name is: {first_input} {second_input}')"
      ]
    },
    {
      "cell_type": "markdown",
      "metadata": {
        "id": "oce-pn2NK82z"
      },
      "source": [
        "# Q3:\n",
        "create a list with 5 member and change the the three one to Iran"
      ]
    },
    {
      "cell_type": "code",
      "source": [
        "new_list= [\"member1\",\"member2\",\"member3\",\"member4\",\"member5\"]\n",
        "print('member of list',new_list)\n",
        "new_list[2]=\"Iran\"\n",
        "print('member of new list',new_list)"
      ],
      "metadata": {
        "colab": {
          "base_uri": "https://localhost:8080/"
        },
        "id": "PPYVMKxEuE7s",
        "outputId": "ccb38de1-1d46-4dd4-8dc1-f648f80b022d"
      },
      "execution_count": null,
      "outputs": [
        {
          "output_type": "stream",
          "name": "stdout",
          "text": [
            "member of list ['member1', 'member2', 'member3', 'member4', 'member5']\n",
            "member of new list ['member1', 'member2', 'Iran', 'member4', 'member5']\n"
          ]
        }
      ]
    },
    {
      "cell_type": "code",
      "execution_count": null,
      "metadata": {
        "vscode": {
          "languageId": "plaintext"
        },
        "id": "ceRcq1m1K82z"
      },
      "outputs": [],
      "source": []
    },
    {
      "cell_type": "markdown",
      "metadata": {
        "id": "w3dvMsrJK820"
      },
      "source": [
        "# Q4:\n",
        "create a dictionary with 5 member assign a b c d e to 1 to 5 and print Dictionary items"
      ]
    },
    {
      "cell_type": "code",
      "execution_count": null,
      "metadata": {
        "vscode": {
          "languageId": "plaintext"
        },
        "id": "94K3HPT0K820",
        "colab": {
          "base_uri": "https://localhost:8080/"
        },
        "outputId": "4ee43b86-d2e2-4ff6-aa40-71525dfc7275"
      },
      "outputs": [
        {
          "output_type": "stream",
          "name": "stdout",
          "text": [
            "dict_items([('a', 1), ('b', 2), ('c', 3), ('d', 4), ('e', 5)])\n"
          ]
        }
      ],
      "source": [
        "new_dict = {'a':1,'b':2,'c':3,'d':4,'e':5}\n",
        "print(new_dict.items())"
      ]
    },
    {
      "cell_type": "markdown",
      "metadata": {
        "id": "xxwkZkqfK820"
      },
      "source": [
        "# Q5:\n",
        "Open an existing file in your computer and print last line(you can make a txt file then do it)"
      ]
    },
    {
      "cell_type": "code",
      "execution_count": null,
      "metadata": {
        "vscode": {
          "languageId": "plaintext"
        },
        "id": "Xv-_qylAK820",
        "colab": {
          "base_uri": "https://localhost:8080/"
        },
        "outputId": "4dd21507-a595-4e44-8655-8f37170c8524"
      },
      "outputs": [
        {
          "output_type": "stream",
          "name": "stdout",
          "text": [
            "line 6\n",
            "\n"
          ]
        }
      ],
      "source": [
        "with open('/content/Q4.txt') as f:\n",
        "  lines = f.readlines()\n",
        "  print(lines[-1])"
      ]
    },
    {
      "cell_type": "markdown",
      "metadata": {
        "id": "fvlwJGWcK821"
      },
      "source": [
        "# Q6:\n",
        "Check 255 is greater than 188 and 255 is smaller than 189 in one line"
      ]
    },
    {
      "cell_type": "code",
      "execution_count": null,
      "metadata": {
        "vscode": {
          "languageId": "plaintext"
        },
        "id": "GeiL25l8K821",
        "colab": {
          "base_uri": "https://localhost:8080/"
        },
        "outputId": "822ff3ad-bab1-4978-b2f8-2f075a73de57"
      },
      "outputs": [
        {
          "output_type": "stream",
          "name": "stdout",
          "text": [
            "is 255>188 , 225<189? :  [True, False]\n"
          ]
        }
      ],
      "source": [
        "print ('is 255>188 , 225<189? : ' ,[bool(255>188) ,bool(255<189)] )"
      ]
    },
    {
      "cell_type": "markdown",
      "metadata": {
        "id": "wcbVZCyDK822"
      },
      "source": [
        "# Q7:\n",
        "assign a your name to variable name person check it among your friends name if its true print 'HOORA'"
      ]
    },
    {
      "cell_type": "code",
      "execution_count": null,
      "metadata": {
        "vscode": {
          "languageId": "plaintext"
        },
        "id": "QnlrcS2FK822"
      },
      "outputs": [],
      "source": [
        "\n",
        "person = \"Atefe\"\n",
        "friends = [\"Elham\", \"Maryam\", \"Nasim\", \"Sahar\"]\n",
        "if person in friends:\n",
        "    print(\"HOORA\")"
      ]
    },
    {
      "cell_type": "markdown",
      "metadata": {
        "id": "y9l2yvU7K822"
      },
      "source": [
        "# Q8:\n",
        "create a list 1 to 10 then check for even numbers then print all using for loops"
      ]
    },
    {
      "cell_type": "code",
      "execution_count": null,
      "metadata": {
        "vscode": {
          "languageId": "plaintext"
        },
        "id": "gRmDFu6-K822",
        "colab": {
          "base_uri": "https://localhost:8080/"
        },
        "outputId": "65bf33b7-38f7-43f7-f9e9-b0c1a31abd2c"
      },
      "outputs": [
        {
          "output_type": "stream",
          "name": "stdout",
          "text": [
            "2\n",
            "4\n",
            "6\n",
            "8\n",
            "10\n"
          ]
        }
      ],
      "source": [
        "new_list = [1,2,3,4,5,6,7,8,9,10]\n",
        "for i in new_list:\n",
        "  if i%2==0:\n",
        "    print(i)"
      ]
    },
    {
      "cell_type": "markdown",
      "metadata": {
        "id": "U82hSpybK823"
      },
      "source": [
        "# Q9:\n",
        "consider x is 12 while x is between 10 to 15 print good else continue"
      ]
    },
    {
      "cell_type": "code",
      "execution_count": null,
      "metadata": {
        "vscode": {
          "languageId": "plaintext"
        },
        "id": "rlhhGSWfK823",
        "colab": {
          "base_uri": "https://localhost:8080/"
        },
        "outputId": "9fa39f98-de3a-4fe0-a734-2de076d11f3e"
      },
      "outputs": [
        {
          "output_type": "stream",
          "name": "stdout",
          "text": [
            "good\n"
          ]
        }
      ],
      "source": [
        "x = 12\n",
        "if 10 <= x <= 15:\n",
        "    print(\"good\")\n",
        "else:\n",
        "    pass\n",
        "\n"
      ]
    },
    {
      "cell_type": "markdown",
      "metadata": {
        "id": "wHfwD2BxK823"
      },
      "source": [
        "# Q10:\n",
        "make a list from 0 to 10000 with step of 100 using \"range\" shuffle this list and pick index 10"
      ]
    },
    {
      "cell_type": "code",
      "execution_count": null,
      "metadata": {
        "vscode": {
          "languageId": "plaintext"
        },
        "id": "DAgt9Kt5K823",
        "colab": {
          "base_uri": "https://localhost:8080/"
        },
        "outputId": "38b22e43-8122-4c38-d105-8e6f2a51c87d"
      },
      "outputs": [
        {
          "output_type": "stream",
          "name": "stdout",
          "text": [
            "Top 20 value in list is:  [0, 100, 200, 300, 400, 500, 600, 700, 800, 900, 1000, 1100, 1200, 1300, 1400, 1500, 1600, 1700, 1800]\n",
            "Top 20 value in shuffled list is:  [4400, 3700, 5500, 5300, 200, 3200, 500, 6900, 6400, 8300, 1300, 9400, 3000, 2800, 5000, 700, 1100, 5400, 4500]\n",
            "index 10 is:  1300\n"
          ]
        }
      ],
      "source": [
        "import random\n",
        "new_list = list(range(0,10000,100))\n",
        "print(\"Top 20 value in list is: \", new_list[0:19])\n",
        "random.shuffle(new_list)\n",
        "print(\"Top 20 value in shuffled list is: \", new_list[0:19])\n",
        "print(\"index 10 is: \", new_list[10])"
      ]
    },
    {
      "cell_type": "markdown",
      "metadata": {
        "id": "bK2zYgcqK823"
      },
      "source": [
        "# Q11:\n",
        "Consider list of 1 to 5 append 6 in it and count even number in it using a function"
      ]
    },
    {
      "cell_type": "code",
      "execution_count": null,
      "metadata": {
        "vscode": {
          "languageId": "plaintext"
        },
        "id": "EqdEv7LxK823",
        "colab": {
          "base_uri": "https://localhost:8080/"
        },
        "outputId": "4c192e96-e8fa-4cd4-dce7-77ffc5dbd411"
      },
      "outputs": [
        {
          "output_type": "stream",
          "name": "stdout",
          "text": [
            "List: [1, 2, 3, 4, 5, 6]\n",
            "Number of even numbers: 3\n"
          ]
        }
      ],
      "source": [
        "def count_even_numbers(numbers):\n",
        "    return sum(1 for num in numbers if num % 2 == 0)\n",
        "\n",
        "new_list = list(range(1, 6))\n",
        "new_list.append(6)\n",
        "\n",
        "count_even_numbers(new_list)\n",
        "\n",
        "print(\"List:\", new_list)\n",
        "print(\"Number of even numbers:\", count_even_numbers(new_list))"
      ]
    },
    {
      "cell_type": "markdown",
      "metadata": {
        "id": "m28CRVbyK823"
      },
      "source": [
        "# Q12:\n",
        "write a function that get string and uppercase the first letter if it's capital print it's True"
      ]
    },
    {
      "cell_type": "code",
      "execution_count": null,
      "metadata": {
        "vscode": {
          "languageId": "plaintext"
        },
        "id": "vWsSuA2PK824",
        "colab": {
          "base_uri": "https://localhost:8080/",
          "height": 36
        },
        "outputId": "757c4ebd-e0fa-4353-9e39-7230820dde36"
      },
      "outputs": [
        {
          "output_type": "execute_result",
          "data": {
            "text/plain": [
              "'Salam'"
            ],
            "application/vnd.google.colaboratory.intrinsic+json": {
              "type": "string"
            }
          },
          "metadata": {},
          "execution_count": 21
        }
      ],
      "source": [
        "def check_and_uppercase_first_letter(s):\n",
        "    if not s:\n",
        "        print(\"The string is empty.\")\n",
        "        return\n",
        "    if s[0].isupper()  :\n",
        "        print(True)\n",
        "    return  s[0].upper() + s[1:]\n",
        "\n",
        "check_and_uppercase_first_letter(\"salam\")"
      ]
    }
  ],
  "metadata": {
    "language_info": {
      "name": "python"
    },
    "colab": {
      "provenance": [],
      "cell_execution_strategy": "setup",
      "include_colab_link": true
    },
    "kernelspec": {
      "name": "python3",
      "display_name": "Python 3"
    }
  },
  "nbformat": 4,
  "nbformat_minor": 0
}